{
  "cells": [
    {
      "cell_type": "markdown",
      "metadata": {
        "id": "view-in-github",
        "colab_type": "text"
      },
      "source": [
        "<a href=\"https://colab.research.google.com/github/41371109h/114-1/blob/main/HW2_%E6%88%90%E7%B8%BE%E4%B8%80%E6%9C%AC%E9%80%9A.ipynb\" target=\"_parent\"><img src=\"https://colab.research.google.com/assets/colab-badge.svg\" alt=\"Open In Colab\"/></a>"
      ]
    },
    {
      "cell_type": "code",
      "execution_count": 40,
      "metadata": {
        "id": "5yEdpxArxDv_"
      },
      "outputs": [],
      "source": [
        "!pip install -q google-generativeai"
      ]
    },
    {
      "cell_type": "code",
      "source": [
        "import gradio as gr\n",
        "import pandas as pd\n",
        "from google.colab import auth\n",
        "from google.auth import default\n",
        "\n",
        "# -*- coding: utf-8 -*-\n",
        "import gspread\n",
        "from datetime import datetime\n",
        "import google.generativeai as genai\n",
        "import os\n",
        "import json"
      ],
      "metadata": {
        "id": "raiopGf42mGt"
      },
      "execution_count": 41,
      "outputs": []
    },
    {
      "cell_type": "code",
      "source": [
        "from google.colab import userdata\n",
        "\n",
        "# 從 Colab Secrets 中獲取 API 金鑰\n",
        "api_key = userdata.get('wt')\n",
        "\n",
        "# 使用獲取的金鑰配置 genai\n",
        "genai.configure(api_key=api_key)\n",
        "\n",
        "model = genai.GenerativeModel('gemini-2.5-pro')"
      ],
      "metadata": {
        "id": "qHWC1MUv9vkf"
      },
      "execution_count": 42,
      "outputs": []
    },
    {
      "cell_type": "code",
      "execution_count": 43,
      "metadata": {
        "id": "9DOnr6iGxO29"
      },
      "outputs": [],
      "source": [
        "from google.colab import userdata\n",
        "\n",
        "# 從 Colab Secrets 中獲取 API 金鑰\n",
        "api_key = userdata.get('wt')\n",
        "\n",
        "# 使用獲取的金鑰配置 genai\n",
        "genai.configure(api_key=api_key)\n",
        "\n",
        "model = genai.GenerativeModel('gemini-2.5-pro')"
      ]
    },
    {
      "cell_type": "code",
      "source": [
        "import pandas as pd\n",
        "import gspread\n",
        "import datetime\n",
        "import gradio as gr\n",
        "from google.colab import auth\n",
        "from google.auth import default\n",
        "\n",
        "# --- Google Sheet 認證與連接 ---\n",
        "# 【重要】請確保此單元格完整執行，以完成 Google 授權\n",
        "auth.authenticate_user()\n",
        "creds, _ = default()\n",
        "gc = gspread.authorize(creds)\n",
        "print(\"✅ Google 認證成功！\")\n",
        "\n",
        "# 連接 Google Sheet\n",
        "# 【請替換成你目前使用的 Google Sheets 網址】\n",
        "sheet_url = 'https://docs.google.com/spreadsheets/d/1Z5JyALae6Y8ioWc4--aTTB8pjXI5f6eBif33KDIERWM/edit?gid=0#gid=0'\n",
        "try:\n",
        "    gsheets = gc.open_by_url(sheet_url)\n",
        "    worksheet = gsheets.worksheet('工作表1') # 請確認你的工作表名稱\n",
        "    print(f\"✅ Google Sheets 檔案已成功連接：{gsheets.title}\")\n",
        "except Exception as e:\n",
        "    print(f\"❌ 連接 Google Sheets 時發生錯誤：{e}\")\n",
        "    # 這裡拋出錯誤，讓程式停止，避免後續操作失敗\n",
        "    raise\n",
        "\n",
        "# --- 函數區：用於 Gradio 介面呼叫 ---\n",
        "\n",
        "def get_grades_df():\n",
        "    \"\"\"從 Google Sheet 讀取所有成績並轉換為 DataFrame\"\"\"\n",
        "    try:\n",
        "        sheets_data = worksheet.get_all_values()\n",
        "        # 假設第一列是標題\n",
        "        df = pd.DataFrame(sheets_data[1:], columns=sheets_data[0])\n",
        "        return df\n",
        "    except Exception as e:\n",
        "        # 如果讀取失敗，回傳空的 DataFrame\n",
        "        return pd.DataFrame()\n",
        "\n",
        "def record_and_update_grade(student_name, subject, grade):\n",
        "    \"\"\"\n",
        "    將單一筆成績紀錄寫入 Google Sheet，並回傳訊息和更新後的 DataFrame。\n",
        "    \"\"\"\n",
        "    # 1. 檢查輸入是否為空\n",
        "    if not student_name or not subject or not grade:\n",
        "        return \"⚠️ 錯誤：姓名、科目和成績都不能為空。\", get_grades_df()\n",
        "\n",
        "    # 2. 驗證成績：確保是數字\n",
        "    try:\n",
        "        float(grade)\n",
        "    except ValueError:\n",
        "        return \"⚠️ 錯誤：成績必須是數字。請重新輸入！\", get_grades_df()\n",
        "\n",
        "    # 3. 準備寫入資料\n",
        "    date_str = datetime.datetime.now().strftime(\"%Y-%m-%d\")\n",
        "    new_row = [date_str, student_name, subject, grade]\n",
        "\n",
        "    # 4. 寫入 Google Sheet\n",
        "    try:\n",
        "        worksheet.append_row(new_row)\n",
        "        # 寫入成功後，重新讀取資料並回傳 (實現即時更新)\n",
        "        return \"✅ 成功新增一筆成績紀錄！\", get_grades_df()\n",
        "    except Exception as e:\n",
        "        return f\"❌ 寫入 Google Sheet 時發生錯誤：{e}\", get_grades_df()\n",
        "\n",
        "# --- Gradio 介面區 ---\n",
        "with gr.Blocks(title=\"成績即時紀錄系統\") as demo:\n",
        "    gr.Markdown(\"# 🏆 成績即時紀錄系統 (Google Sheets 連動)\")\n",
        "    gr.Markdown(\"在下方輸入成績，點擊『記錄成績』，資料會**即時**寫入 Google Sheets 並更新表格。\")\n",
        "\n",
        "    # 修正後的代碼：移除 'live=True'\n",
        "    # 'value=get_grades_df' 會在介面載入時執行，但後續更新由 submit_button.click 負責\n",
        "    grades_table = gr.DataFrame(value=get_grades_df, label=\"現有成績資料 (即時更新)\")\n",
        "\n",
        "    gr.Markdown(\"---\")\n",
        "\n",
        "    # 介面輸入框\n",
        "    with gr.Row():\n",
        "        student_name_input = gr.Textbox(label=\"學生姓名\", placeholder=\"例如：李小華\")\n",
        "        subject_input = gr.Textbox(label=\"科目\", placeholder=\"例如：英文\")\n",
        "        grade_input = gr.Textbox(label=\"成績\", placeholder=\"例如：88\")\n",
        "\n",
        "    # 按鈕和回饋訊息\n",
        "    with gr.Row():\n",
        "        submit_button = gr.Button(\"記錄成績\")\n",
        "        output_message = gr.Textbox(label=\"操作訊息\", interactive=False, value=\"\")\n",
        "\n",
        "    # 設定按鈕點擊事件：點擊後，更新 output_message 和 grades_table\n",
        "    submit_button.click(\n",
        "        fn=record_and_update_grade,\n",
        "        inputs=[student_name_input, subject_input, grade_input],\n",
        "        outputs=[output_message, grades_table]\n",
        "    )\n",
        "\n",
        "if __name__ == \"__main__\":\n",
        "    demo.launch(share=True)"
      ],
      "metadata": {
        "colab": {
          "base_uri": "https://localhost:8080/",
          "height": 648
        },
        "id": "0OVAy5gwCFzE",
        "outputId": "68f15f24-6b3d-4016-cd40-9a1d9a22e250"
      },
      "execution_count": 44,
      "outputs": [
        {
          "output_type": "stream",
          "name": "stdout",
          "text": [
            "✅ Google 認證成功！\n",
            "✅ Google Sheets 檔案已成功連接：HW2_成績一本通\n",
            "Colab notebook detected. To show errors in colab notebook, set debug=True in launch()\n",
            "* Running on public URL: https://d59d3a7d18b059303a.gradio.live\n",
            "\n",
            "This share link expires in 1 week. For free permanent hosting and GPU upgrades, run `gradio deploy` from the terminal in the working directory to deploy to Hugging Face Spaces (https://huggingface.co/spaces)\n"
          ]
        },
        {
          "output_type": "display_data",
          "data": {
            "text/plain": [
              "<IPython.core.display.HTML object>"
            ],
            "text/html": [
              "<div><iframe src=\"https://d59d3a7d18b059303a.gradio.live\" width=\"100%\" height=\"500\" allow=\"autoplay; camera; microphone; clipboard-read; clipboard-write;\" frameborder=\"0\" allowfullscreen></iframe></div>"
            ]
          },
          "metadata": {}
        }
      ]
    }
  ],
  "metadata": {
    "colab": {
      "provenance": [],
      "authorship_tag": "ABX9TyN3CvEIKuhFRzJ+mlVVKSe+",
      "include_colab_link": true
    },
    "kernelspec": {
      "display_name": "Python 3",
      "name": "python3"
    },
    "language_info": {
      "name": "python"
    }
  },
  "nbformat": 4,
  "nbformat_minor": 0
}
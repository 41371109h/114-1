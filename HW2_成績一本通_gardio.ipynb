{
  "nbformat": 4,
  "nbformat_minor": 0,
  "metadata": {
    "colab": {
      "provenance": [],
      "authorship_tag": "ABX9TyPGXC9OyMp4E/ona60bbsMB",
      "include_colab_link": true
    },
    "kernelspec": {
      "name": "python3",
      "display_name": "Python 3"
    },
    "language_info": {
      "name": "python"
    }
  },
  "cells": [
    {
      "cell_type": "markdown",
      "metadata": {
        "id": "view-in-github",
        "colab_type": "text"
      },
      "source": [
        "<a href=\"https://colab.research.google.com/github/41371109h/114-1/blob/main/HW2_%E6%88%90%E7%B8%BE%E4%B8%80%E6%9C%AC%E9%80%9A_gardio.ipynb\" target=\"_parent\"><img src=\"https://colab.research.google.com/assets/colab-badge.svg\" alt=\"Open In Colab\"/></a>"
      ]
    },
    {
      "cell_type": "code",
      "execution_count": 1,
      "metadata": {
        "colab": {
          "base_uri": "https://localhost:8080/",
          "height": 612
        },
        "id": "3aRBRZyn4Ppj",
        "outputId": "be7293f7-a989-44a6-bfdd-16c72bb52b18"
      },
      "outputs": [
        {
          "output_type": "stream",
          "name": "stdout",
          "text": [
            "Colab notebook detected. To show errors in colab notebook, set debug=True in launch()\n",
            "* Running on public URL: https://5920ffbde82b98b903.gradio.live\n",
            "\n",
            "This share link expires in 1 week. For free permanent hosting and GPU upgrades, run `gradio deploy` from the terminal in the working directory to deploy to Hugging Face Spaces (https://huggingface.co/spaces)\n"
          ]
        },
        {
          "output_type": "display_data",
          "data": {
            "text/plain": [
              "<IPython.core.display.HTML object>"
            ],
            "text/html": [
              "<div><iframe src=\"https://5920ffbde82b98b903.gradio.live\" width=\"100%\" height=\"500\" allow=\"autoplay; camera; microphone; clipboard-read; clipboard-write;\" frameborder=\"0\" allowfullscreen></iframe></div>"
            ]
          },
          "metadata": {}
        }
      ],
      "source": [
        "import pandas as pd\n",
        "import gspread\n",
        "from google.colab import auth\n",
        "from google.auth import default\n",
        "import datetime\n",
        "import gradio as gr\n",
        "\n",
        "# --- Google Sheet 認證與連接 ---\n",
        "# 第一次執行時，會跳出授權視窗，請依照指示完成認證。\n",
        "auth.authenticate_user()\n",
        "creds, _ = default()\n",
        "gc = gspread.authorize(creds)\n",
        "\n",
        "# 請將這裡的網址替換成你的 Google Sheets 網址\n",
        "sheet_url = 'https://docs.google.com/spreadsheets/d/1Z5JyALae6Y8ioWc4--aTTB8pjXI5f6eBif33KDIERWM/edit?gid=0#gid=0'\n",
        "gsheets = gc.open_by_url(sheet_url)\n",
        "\n",
        "# 請將這裡的 '工作表1' 替換成你的工作表名稱\n",
        "worksheet = gsheets.worksheet('工作表1')\n",
        "\n",
        "# --- 函數區：用於 Gradio 介面呼叫 ---\n",
        "def get_grades_df():\n",
        "    \"\"\"從 Google Sheet 讀取所有成績並轉換為 DataFrame\"\"\"\n",
        "    sheets_data = worksheet.get_all_values()\n",
        "    df = pd.DataFrame(sheets_data[1:], columns=sheets_data[0])\n",
        "    return df\n",
        "\n",
        "def record_grade(student_name, subject, grade):\n",
        "    \"\"\"將單一筆成績紀錄寫入 Google Sheet\"\"\"\n",
        "    # 確保成績是數字\n",
        "    try:\n",
        "        float(grade)\n",
        "    except ValueError:\n",
        "        return \"⚠️ 錯誤：成績必須是數字。請重新輸入！\"\n",
        "\n",
        "    # 檢查輸入是否為空\n",
        "    if not student_name or not subject or not grade:\n",
        "        return \"⚠️ 錯誤：姓名、科目和成績都不能為空，請重新輸入。\"\n",
        "\n",
        "    date_str = datetime.datetime.now().strftime(\"%Y-%m-%d\")\n",
        "    new_row = [date_str, student_name, subject, grade]\n",
        "\n",
        "    try:\n",
        "        worksheet.append_row(new_row)\n",
        "        # 成功寫入後，返回成功訊息和最新的 DataFrame\n",
        "        return \"✅ 成功新增一筆成績紀錄！\", get_grades_df()\n",
        "    except Exception as e:\n",
        "        return f\"❌ 寫入 Google Sheet 時發生錯誤：{e}\", get_grades_df()\n",
        "\n",
        "# --- Gradio 介面區 ---\n",
        "with gr.Blocks(title=\"成績紀錄小幫手\") as demo:\n",
        "    gr.Markdown(\"# 📝 成績紀錄小幫手\")\n",
        "    gr.Markdown(\"請在下方輸入成績，並點擊『記錄成績』按鈕。\")\n",
        "\n",
        "    # 顯示現有資料的表格\n",
        "    # 這裡使用 gr.Dataframe 來展示 Pandas DataFrame\n",
        "    grades_table = gr.DataFrame(value=get_grades_df, label=\"現有成績資料\")\n",
        "\n",
        "    # 介面輸入框\n",
        "    with gr.Row():\n",
        "        student_name_input = gr.Textbox(label=\"學生姓名\", placeholder=\"例如：王小明\")\n",
        "        subject_input = gr.Textbox(label=\"科目\", placeholder=\"例如：數學\")\n",
        "        grade_input = gr.Textbox(label=\"成績\", placeholder=\"例如：95\")\n",
        "\n",
        "    # 按鈕和回饋訊息\n",
        "    with gr.Row():\n",
        "        submit_button = gr.Button(\"記錄成績\")\n",
        "        output_message = gr.Textbox(label=\"訊息\", interactive=False, value=\"\")\n",
        "\n",
        "    # 設定按鈕點擊事件\n",
        "    submit_button.click(\n",
        "        fn=record_grade,\n",
        "        inputs=[student_name_input, subject_input, grade_input],\n",
        "        outputs=[output_message, grades_table]\n",
        "    )\n",
        "\n",
        "if __name__ == \"__main__\":\n",
        "    demo.launch(share=True)"
      ]
    }
  ]
}
{
  "nbformat": 4,
  "nbformat_minor": 0,
  "metadata": {
    "colab": {
      "provenance": [],
      "authorship_tag": "ABX9TyNGVaoe2Gt8REe2F8AEcSxe",
      "include_colab_link": true
    },
    "kernelspec": {
      "name": "python3",
      "display_name": "Python 3"
    },
    "language_info": {
      "name": "python"
    }
  },
  "cells": [
    {
      "cell_type": "markdown",
      "metadata": {
        "id": "view-in-github",
        "colab_type": "text"
      },
      "source": [
        "<a href=\"https://colab.research.google.com/github/41371109h/114-1/blob/main/HW1_%E6%97%A5%E5%B8%B8%E6%94%AF%E5%87%BA%E9%80%9F%E7%AE%97%E8%88%87%E5%88%86%E6%94%A4_gradio.ipynb\" target=\"_parent\"><img src=\"https://colab.research.google.com/assets/colab-badge.svg\" alt=\"Open In Colab\"/></a>"
      ]
    },
    {
      "cell_type": "code",
      "execution_count": 1,
      "metadata": {
        "colab": {
          "base_uri": "https://localhost:8080/",
          "height": 612
        },
        "id": "SDWjPAv6gn-B",
        "outputId": "d9ea83a1-be9e-4321-bd65-91698e3f9309"
      },
      "outputs": [
        {
          "output_type": "stream",
          "name": "stdout",
          "text": [
            "Colab notebook detected. To show errors in colab notebook, set debug=True in launch()\n",
            "* Running on public URL: https://55f459e0262803658d.gradio.live\n",
            "\n",
            "This share link expires in 1 week. For free permanent hosting and GPU upgrades, run `gradio deploy` from the terminal in the working directory to deploy to Hugging Face Spaces (https://huggingface.co/spaces)\n"
          ]
        },
        {
          "output_type": "display_data",
          "data": {
            "text/plain": [
              "<IPython.core.display.HTML object>"
            ],
            "text/html": [
              "<div><iframe src=\"https://55f459e0262803658d.gradio.live\" width=\"100%\" height=\"500\" allow=\"autoplay; camera; microphone; clipboard-read; clipboard-write;\" frameborder=\"0\" allowfullscreen></iframe></div>"
            ]
          },
          "metadata": {}
        }
      ],
      "source": [
        "import datetime\n",
        "import pandas as pd\n",
        "import gradio as gr\n",
        "from google.colab import auth\n",
        "import gspread\n",
        "from google.auth import default\n",
        "\n",
        "# --- Google Sheet 認證 ---\n",
        "auth.authenticate_user()\n",
        "creds, _ = default()\n",
        "gc = gspread.authorize(creds)\n",
        "\n",
        "# 連接 Google Sheet (請將網址替換成你的)\n",
        "sheet_url = 'https://docs.google.com/spreadsheets/d/1N0nOCQnyxrJqLYYOr6aL2rvluNmZvd0plJYzbuwJMu4/edit?usp=sharing'\n",
        "gsheets = gc.open_by_url(sheet_url)\n",
        "worksheet = gsheets.worksheet('工作表1')   # 請將工作表名稱替換成你的\n",
        "\n",
        "def record_expense(item, amount, category):\n",
        "    \"\"\"\n",
        "    將單一筆消費紀錄寫入 Google Sheet。\n",
        "    \"\"\"\n",
        "    # 取得當前的日期\n",
        "    date_str = datetime.datetime.now().strftime(\"%Y-%m-%d\")\n",
        "\n",
        "    # 檢查輸入是否為空\n",
        "    if not item or not amount or not category:\n",
        "        return \"⚠️ 錯誤：品項、金額和類別都不能為空，請重新輸入。\"\n",
        "\n",
        "    try:\n",
        "        # 轉換金額為浮點數，確保資料型態正確\n",
        "        amount = float(amount)\n",
        "        new_row = [date_str, item, amount, category]\n",
        "        worksheet.append_row(new_row)\n",
        "        return \"✅ 已成功將紀錄新增到 Google Sheet！\"\n",
        "    except ValueError:\n",
        "        return \"⚠️ 錯誤：金額必須是數字，請重新輸入。\"\n",
        "    except Exception as e:\n",
        "        return f\"❌ 寫入 Google Sheet 時發生錯誤：{e}\"\n",
        "\n",
        "# 建立 Gradio 介面\n",
        "with gr.Blocks(title=\"我的消費紀錄 App\") as demo:\n",
        "    gr.Markdown(\"# 📝 我的消費紀錄\")\n",
        "    gr.Markdown(\"請在下方輸入你的消費紀錄，並點擊『記錄』按鈕。\")\n",
        "\n",
        "    with gr.Row():\n",
        "        item_input = gr.Textbox(label=\"品項\", placeholder=\"例如：午餐\")\n",
        "        amount_input = gr.Number(label=\"金額\", placeholder=\"例如：150\")\n",
        "        category_input = gr.Textbox(label=\"類別\", placeholder=\"例如：食物\")\n",
        "\n",
        "    submit_button = gr.Button(\"記錄\")\n",
        "    output_message = gr.Textbox(label=\"訊息\", interactive=False)\n",
        "\n",
        "    submit_button.click(\n",
        "        fn=record_expense,\n",
        "        inputs=[item_input, amount_input, category_input],\n",
        "        outputs=output_message\n",
        "    )\n",
        "\n",
        "if __name__ == \"__main__\":\n",
        "    demo.launch(share=True)"
      ]
    }
  ]
}